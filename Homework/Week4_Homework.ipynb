{
 "cells": [
  {
   "cell_type": "markdown",
   "id": "11da8365",
   "metadata": {},
   "source": [
    "# Quiz (Week 4): \n",
    "Using Opentrons and active learning to produce a color of choice. \n",
    "The color should be the last 3 digits of your student ID. Each student contribute to 1 channel of R, G, B. \n",
    "\n",
    "Submit your homework with Name and student ID to the github repo\n"
   ]
  },
  {
   "cell_type": "markdown",
   "id": "4e218847",
   "metadata": {},
   "source": [
    "# 1. Connecting to Opentrons (0 points, no mark)"
   ]
  },
  {
   "cell_type": "code",
   "execution_count": null,
   "id": "4b5f5b91",
   "metadata": {},
   "outputs": [
    {
     "name": "stdout",
     "output_type": "stream",
     "text": [
      "BEARS Robot is healthy: {'name': 'OT2CEP20200813B01', 'robot_model': 'OT-2 Standard', 'api_version': '8.6.0', 'fw_version': 'v1.1.0-25e5cea', 'board_revision': '2.1', 'logs': ['/logs/serial.log', '/logs/api.log', '/logs/server.log', '/logs/update_server.log'], 'system_version': 'v1.19.2', 'maximum_protocol_api_version': [2, 25], 'minimum_protocol_api_version': [2, 0], 'robot_serial': 'lively-paper', 'links': {'apiLog': '/logs/api.log', 'serialLog': '/logs/serial.log', 'serverLog': '/logs/server.log', 'apiSpec': '/openapi.json', 'systemTime': '/system/time'}}\n"
     ]
    }
   ],
   "source": [
    "#Setup & Check Robot Connectivity\n",
    "from opentrons import protocol_api\n",
    "import requests\n",
    "\n",
    "ROBOT_IP = \"192.168.50.64\"  # Replace with your robot's IP address, 169.254.91.213\n",
    "BASE_URL = f\"http://{ROBOT_IP}:31950\"\n",
    "HEADERS = {\"Opentrons-Version\": \"*\"}\n",
    "\n",
    "try:\n",
    "    response = requests.get(f\"{BASE_URL}/health\", headers=HEADERS, timeout=5)\n",
    "    if response.ok:\n",
    "        print(\"BEARS Robot is healthy:\", response.json())\n",
    "    else:\n",
    "        print(\"Failed to connect to the robot. Status code:\", response.status_code)\n",
    "except requests.exceptions.RequestException as e:\n",
    "    print(\"Error connecting to the robot:\", e)\n"
   ]
  },
  {
   "cell_type": "markdown",
   "id": "d5bfcd43",
   "metadata": {},
   "source": [
    "# 2. Construct a color mixing protocol to innitiate active learning (40 points)\n",
    "\n",
    "A. Please generate a few starting point (colors) and a target color.  \n",
    "B. Prepare them using Opentrons protocol.  \n",
    "C. Capture an image.  \n",
    "D. aquire respective ROIs.  \n",
    "\n",
    "### Please construct your own control protocol and submit as an attachment. "
   ]
  },
  {
   "cell_type": "code",
   "execution_count": null,
   "id": "de26f5d5",
   "metadata": {},
   "outputs": [],
   "source": []
  },
  {
   "cell_type": "markdown",
   "id": "f3ef5483",
   "metadata": {},
   "source": [
    "# 3. Produce the target color in wellplate (40 points) \n",
    "Target RGB values (55,150,40).  \n",
    
    "You should try to approach the target color as fast as possible, within minimum number of sample prepared. \n",
    "\n",
    "Hint: During the optimization process, the amount of liquid transferred differs between runs. So we need to automate the protocol generation process. \n",
    "\n",
    "protocol_generator.py and  bo_loop_example.py  might be a good reference (It is a working code generated from LLM, try beat it in you own implementation)"
   ]
  },
  {
   "cell_type": "code",
   "execution_count": null,
   "id": "2fff2ced",
   "metadata": {},
   "outputs": [],
   "source": []
  },
  {
   "cell_type": "markdown",
   "id": "9666dcb9",
   "metadata": {},
   "source": [
    "# 4. Visualize the optimizaiton (20 points)  \n",
    "A. Visualize the difference between target color and prepared color mixture. \n",
    "B. Visualize the machine learning process. "
   ]
  },
  {
   "cell_type": "code",
   "execution_count": null,
   "id": "4af0b5b7",
   "metadata": {},
   "outputs": [],
   "source": []
  }
 ],
 "metadata": {
  "kernelspec": {
   "display_name": "Python 3",
   "language": "python",
   "name": "python3"
  },
  "language_info": {
   "codemirror_mode": {
    "name": "ipython",
    "version": 3
   },
   "file_extension": ".py",
   "mimetype": "text/x-python",
   "name": "python",
   "nbconvert_exporter": "python",
   "pygments_lexer": "ipython3",
   "version": "3.11.9"
  }
 },
 "nbformat": 4,
 "nbformat_minor": 5
}
